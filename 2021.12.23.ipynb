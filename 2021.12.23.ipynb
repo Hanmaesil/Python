{
 "cells": [
  {
   "cell_type": "markdown",
   "id": "caf88c5d",
   "metadata": {},
   "source": [
    "# tuple\n",
    "- 파이썬의 자료구조 형태중 하나\n",
    "- 순서가 있는 집합(인덱스)\n",
    "- 소괄호로 작성되어지며, 튜플의 내부 값은 콤마로 구분\n",
    "- 추가,수정,삭제 불가능\n",
    "- 처리속도 향상 및 메로리 공간 절약\n",
    "- 값이 변하면 안되는 경우 사용한다\n",
    "- 구문을 더 간단하게 사용하는 경우에 사용된다."
   ]
  },
  {
   "cell_type": "code",
   "execution_count": 1,
   "id": "9c13e4cb",
   "metadata": {},
   "outputs": [
    {
     "name": "stdout",
     "output_type": "stream",
     "text": [
      "(1, 2, ('My', 'Name'))\n"
     ]
    }
   ],
   "source": [
    "a = ()\n",
    "b = (1,2,3)\n",
    "c = (\"My\", \"Name\")\n",
    "d = (1,2, \"My\", \"Name\")\n",
    "e = (1,2, (\"My\", \"Name\")) #이중배열 같은 느낌\n",
    "print(e)"
   ]
  },
  {
   "cell_type": "code",
   "execution_count": 2,
   "id": "895b3070",
   "metadata": {},
   "outputs": [],
   "source": [
    "tuple1 = (0,1,2,3,(\"a\", \"b\", \"c\"),5)"
   ]
  },
  {
   "cell_type": "code",
   "execution_count": 3,
   "id": "7c80957a",
   "metadata": {},
   "outputs": [
    {
     "data": {
      "text/plain": [
       "('a', 'b', 'c')"
      ]
     },
     "execution_count": 3,
     "metadata": {},
     "output_type": "execute_result"
    }
   ],
   "source": [
    "tuple1[2]\n",
    "tuple1[4]"
   ]
  },
  {
   "cell_type": "code",
   "execution_count": 4,
   "id": "7889ebe4",
   "metadata": {},
   "outputs": [
    {
     "data": {
      "text/plain": [
       "(1, 2)"
      ]
     },
     "execution_count": 4,
     "metadata": {},
     "output_type": "execute_result"
    }
   ],
   "source": [
    "tuple1[1:3]"
   ]
  },
  {
   "cell_type": "code",
   "execution_count": 5,
   "id": "fdf583ee",
   "metadata": {},
   "outputs": [
    {
     "data": {
      "text/plain": [
       "(3, ('a', 'b', 'c'), 5)"
      ]
     },
     "execution_count": 5,
     "metadata": {},
     "output_type": "execute_result"
    }
   ],
   "source": [
    "tuple1[3:]"
   ]
  },
  {
   "cell_type": "code",
   "execution_count": 6,
   "id": "79b709ad",
   "metadata": {},
   "outputs": [
    {
     "data": {
      "text/plain": [
       "6"
      ]
     },
     "execution_count": 6,
     "metadata": {},
     "output_type": "execute_result"
    }
   ],
   "source": [
    "len(tuple1)"
   ]
  },
  {
   "cell_type": "code",
   "execution_count": 7,
   "id": "f9de5127",
   "metadata": {},
   "outputs": [],
   "source": [
    "# tuple1[0] = 3 # 수정,삭제 안된다!"
   ]
  },
  {
   "cell_type": "markdown",
   "id": "0d05eb46",
   "metadata": {},
   "source": [
    "# 데이터의 포함 여부 확인(조건문에 사용되는 in,not in)\n",
    "- in, not in"
   ]
  },
  {
   "cell_type": "code",
   "execution_count": 8,
   "id": "9c91dc78",
   "metadata": {},
   "outputs": [],
   "source": [
    "str1 = \"파이썬 최고\""
   ]
  },
  {
   "cell_type": "code",
   "execution_count": 9,
   "id": "1fbd62ba",
   "metadata": {},
   "outputs": [
    {
     "data": {
      "text/plain": [
       "True"
      ]
     },
     "execution_count": 9,
     "metadata": {},
     "output_type": "execute_result"
    }
   ],
   "source": [
    "\"파이썬\" in str1"
   ]
  },
  {
   "cell_type": "code",
   "execution_count": 10,
   "id": "e229b498",
   "metadata": {},
   "outputs": [
    {
     "data": {
      "text/plain": [
       "False"
      ]
     },
     "execution_count": 10,
     "metadata": {},
     "output_type": "execute_result"
    }
   ],
   "source": [
    "\"파이썬\" not in str1"
   ]
  },
  {
   "cell_type": "code",
   "execution_count": 11,
   "id": "3cda89d6",
   "metadata": {},
   "outputs": [],
   "source": [
    "list = [77, 38, 10]"
   ]
  },
  {
   "cell_type": "code",
   "execution_count": 12,
   "id": "a06487ed",
   "metadata": {},
   "outputs": [
    {
     "data": {
      "text/plain": [
       "True"
      ]
     },
     "execution_count": 12,
     "metadata": {},
     "output_type": "execute_result"
    }
   ],
   "source": [
    "33 in list\n",
    "33 not in list"
   ]
  },
  {
   "cell_type": "code",
   "execution_count": 16,
   "id": "2349b0ea",
   "metadata": {},
   "outputs": [
    {
     "name": "stdout",
     "output_type": "stream",
     "text": [
      "*********************************************\n",
      "검색할 문자를 입력하세요 >> 오렌지\n",
      "오렌지는(은) 리스트에 들어있지 않습니다.\n"
     ]
    }
   ],
   "source": [
    "print('*' * 45)\n",
    "list_fruit = [\"딸기\", \"바나나\", \"수박\", \"체리\", \"포도\"]\n",
    "search = input(\"검색할 문자를 입력하세요 >> \")\n",
    "result = search in list_fruit  #입력한 값이 리스트에 있는 지 확인하는 작업\n",
    "\n",
    "if result == True :\n",
    "    num = list_fruit.index(search) # 입력한 값이 리스트의 몇번째 인덱스에 있는지 확인 하는 작업\n",
    "    print(f\"{search}는(은) 리스트에 {num}번째 인덱스에 들어있습니다.\")\n",
    "elif result == False :\n",
    "    print(f\"{search}는(은) 리스트에 들어있지 않습니다.\")\n",
    "print('*' * 45)\n"
   ]
  },
  {
   "cell_type": "code",
   "execution_count": 28,
   "id": "6de17a06",
   "metadata": {},
   "outputs": [
    {
     "name": "stdout",
     "output_type": "stream",
     "text": [
      "검색할 문자를 입력하세요 >>  \n",
      " 는 4 번 들어있습니다.\n"
     ]
    }
   ],
   "source": [
    "s = \"Hi, My name is Mihee\"\n",
    "search = input(\"검색할 문자를 입력하세요 >> \")  # 공백도 문자열로 인식한다! 세상에나...\n",
    "result = search in s  #입력한 값이 문자열에 있는 지 확인하는 작업\n",
    "\n",
    "# if result == True :\n",
    "#     num = s.count(search) # 입력한 값이 문자열에 몇개나 있는지 확인 하는 작업\n",
    "#     print(f\"{search}는(은) {num} 번 들어있습니다.\")\n",
    "# elif result == False :\n",
    "#     print(f\"{search}는(은) 문자열에 들어있지 않습니다.\")\n",
    "\n",
    "if search in s :\n",
    "    print(f\"{search}는 {s.count(search)} 번 들어있습니다.\")\n",
    "else :\n",
    "    print(f\"{search}는 문자열에 들어있지 않습니다.\")\n"
   ]
  },
  {
   "cell_type": "markdown",
   "id": "7349e230",
   "metadata": {},
   "source": [
    "# 반복문!!!\n",
    "- while -> 반복 횟수가 명확하지 않을 때 사용!\n",
    "- for -> 반복 횟수가 명확할 때 사용!\n",
    "- 사용하는 경우는 자바랑 똑같다"
   ]
  },
  {
   "cell_type": "markdown",
   "id": "e63282ef",
   "metadata": {},
   "source": [
    "### while 반복문!\n",
    "- while 조건문 :\n",
    "-       실행문장"
   ]
  },
  {
   "cell_type": "code",
   "execution_count": 37,
   "id": "97e5c65d",
   "metadata": {},
   "outputs": [
    {
     "name": "stdout",
     "output_type": "stream",
     "text": [
      "1. 파이썬 최고!!!\n",
      "2. 파이썬 최고!!!\n",
      "3. 파이썬 최고!!!\n",
      "4. 파이썬 최고!!!\n",
      "5. 파이썬 최고!!!\n",
      "6. 파이썬 최고!!!\n",
      "7. 파이썬 최고!!!\n",
      "8. 파이썬 최고!!!\n",
      "9. 파이썬 최고!!!\n",
      "10. 파이썬 최고!!!\n",
      "11. 파이썬 최고!!!\n",
      "12. 파이썬 최고!!!\n",
      "13. 파이썬 최고!!!\n"
     ]
    }
   ],
   "source": [
    "number = 0\n",
    "while number < 13 :\n",
    "    number += 1\n",
    "    print(f\"{number}. 파이썬 최고!!!\")\n",
    "    "
   ]
  },
  {
   "cell_type": "code",
   "execution_count": 45,
   "id": "66e70709",
   "metadata": {},
   "outputs": [
    {
     "name": "stdout",
     "output_type": "stream",
     "text": [
      "무한루프\n"
     ]
    }
   ],
   "source": [
    "while True :\n",
    "    print(\"무한루프\")\n",
    "    break"
   ]
  },
  {
   "cell_type": "code",
   "execution_count": 4,
   "id": "66070ba0",
   "metadata": {},
   "outputs": [
    {
     "name": "stdout",
     "output_type": "stream",
     "text": [
      "1\n",
      "2\n",
      "3\n"
     ]
    }
   ],
   "source": [
    "number = 1\n",
    "while True :\n",
    "    print(number)\n",
    "    number += 1\n",
    "    if number > 3 :\n",
    "        break"
   ]
  },
  {
   "cell_type": "code",
   "execution_count": 29,
   "id": "b1a955a2",
   "metadata": {},
   "outputs": [
    {
     "name": "stdout",
     "output_type": "stream",
     "text": [
      "첫 번째 정수 입력 >> 20\n",
      "두 번째 정수 입력 >> 25\n",
      "두 정수의 합 : 45\n",
      "첫 번째 정수 입력 >> 0\n",
      "두 번째 정수 입력 >> 2\n",
      "두 정수의 합 : 2\n",
      "첫 번째 정수 입력 >> 0\n",
      "두 번째 정수 입력 >> 0\n",
      "프로그램이 종료되었습니다.\n"
     ]
    }
   ],
   "source": [
    "while True : \n",
    "    num1 = int(input(\"첫 번째 정수 입력 >> \"))\n",
    "    num2 = int(input(\"두 번째 정수 입력 >> \"))\n",
    "    sum = num1 + num2\n",
    "#내 풀이방식\n",
    "\n",
    "#     if num1 == 0 and num2 == 0 :\n",
    "#         print(\"프로그램이 종료되었습니다.\")\n",
    "#         break\n",
    "#     else : \n",
    "#         print(f\"두 정수의 합 : {sum}\")\n",
    "# not을 활용한 풀이방식\n",
    "\n",
    "#     if not (num1 == 0 and num2 == 0) :  #not을 쓰고싶을때!\n",
    "#         print(f\"두 정수의 합 : {sum}\")\n",
    "#     else :\n",
    "#         print(\"프로그램이 종료되었습니다.\")\n",
    "#         break\n",
    "\n",
    "# 선생님 풀이 방식(더 깔끔하다.)\n",
    "\n",
    "#     if num1 == 0 and num2 == 0:\n",
    "#         print(\"프로그램이 종료되었습니다.\")\n",
    "#         break\n",
    "#     print(f\"두 정수의 합 : {sum}\")\n",
    "    \n",
    "\n",
    "\n"
   ]
  },
  {
   "cell_type": "code",
   "execution_count": 31,
   "id": "4bfc7ab7",
   "metadata": {},
   "outputs": [
    {
     "name": "stdout",
     "output_type": "stream",
     "text": [
      "현재 몸무게 : 80\n",
      "목표 몸무게 : 70\n",
      "1주차 감량 몸무게 : 2\n",
      "2주차 감량 몸무게 : 3\n",
      "3주차 감량 몸무게 : 4\n",
      "4주차 감량 몸무게 : 5\n",
      "66 kg 달성!! 축하합니다!\n"
     ]
    }
   ],
   "source": [
    "nowWeight = int(input(\"현재 몸무게 : \"))\n",
    "diet = int(input(\"목표 몸무게 : \"))\n",
    "day = 1 #주차를 알려주는 변수\n",
    "\n",
    "#내방식\n",
    "\n",
    "while True : \n",
    "    dietWeight = int(input(f\"{day}주차 감량 몸무게 : \"))\n",
    "    day += 1\n",
    "    nowWeight -= dietWeight #현재 몸무게를 계속 갱신해주는 식\n",
    "    if nowWeight <= diet :\n",
    "        print(f\"{nowWeight} kg 달성!! 축하합니다!\")\n",
    "        break\n",
    "        \n",
    "        \n",
    "#선생님 방식        \n",
    "\n",
    "# while True :\n",
    "#     dietWeight = int(input(f\"{day}주차 감량 몸무게 : \"))\n",
    "#     day += 1\n",
    "#     nowWeight -= dietWeight\n",
    "#     if nowWeight <= diet:\n",
    "#         break\n",
    "# print(f\"{nowWeight} kg 달성!! 축하합니다!\")"
   ]
  },
  {
   "cell_type": "markdown",
   "id": "55d2bdb8",
   "metadata": {},
   "source": [
    "# for 반복문!!!\n",
    "- 문자열 또는 리스트 또는 튜플이 들어갔을 때 안에 있는 요소를 하나씩 반복\n",
    "- list 변수명 in = 문자열(or 리스트 or 튜플) :\n",
    "- 실행문장"
   ]
  },
  {
   "cell_type": "code",
   "execution_count": 34,
   "id": "137b8397",
   "metadata": {},
   "outputs": [
    {
     "name": "stdout",
     "output_type": "stream",
     "text": [
      "햄버거\n",
      "치킨\n",
      "피자\n"
     ]
    }
   ],
   "source": [
    "list_food = [\"햄버거\", \"치킨\", \"피자\"]\n",
    "for food in list_food :\n",
    "    print(food)"
   ]
  },
  {
   "cell_type": "code",
   "execution_count": 35,
   "id": "b366d557",
   "metadata": {},
   "outputs": [
    {
     "name": "stdout",
     "output_type": "stream",
     "text": [
      "안\n",
      "녕\n",
      "하\n",
      "세\n",
      "요\n"
     ]
    }
   ],
   "source": [
    "s = \"안녕하세요\"\n",
    "for str in s :\n",
    "    print(str)"
   ]
  },
  {
   "cell_type": "code",
   "execution_count": 36,
   "id": "839c9c43",
   "metadata": {},
   "outputs": [
    {
     "name": "stdout",
     "output_type": "stream",
     "text": [
      "햄버거\n",
      "치킨\n",
      "피자\n"
     ]
    }
   ],
   "source": [
    "tuple_food = (\"햄버거\", \"치킨\", \"피자\")\n",
    "for food in tuple_food :\n",
    "    print(food)"
   ]
  },
  {
   "cell_type": "code",
   "execution_count": null,
   "id": "a43cb3f0",
   "metadata": {},
   "outputs": [],
   "source": []
  },
  {
   "cell_type": "code",
   "execution_count": null,
   "id": "d3129f39",
   "metadata": {},
   "outputs": [],
   "source": []
  },
  {
   "cell_type": "code",
   "execution_count": null,
   "id": "01940e63",
   "metadata": {},
   "outputs": [],
   "source": []
  },
  {
   "cell_type": "code",
   "execution_count": null,
   "id": "441ed486",
   "metadata": {},
   "outputs": [],
   "source": []
  },
  {
   "cell_type": "code",
   "execution_count": null,
   "id": "229a73b1",
   "metadata": {},
   "outputs": [],
   "source": []
  },
  {
   "cell_type": "code",
   "execution_count": null,
   "id": "de6cdd01",
   "metadata": {},
   "outputs": [],
   "source": []
  }
 ],
 "metadata": {
  "kernelspec": {
   "display_name": "Python 3 (ipykernel)",
   "language": "python",
   "name": "python3"
  },
  "language_info": {
   "codemirror_mode": {
    "name": "ipython",
    "version": 3
   },
   "file_extension": ".py",
   "mimetype": "text/x-python",
   "name": "python",
   "nbconvert_exporter": "python",
   "pygments_lexer": "ipython3",
   "version": "3.9.7"
  }
 },
 "nbformat": 4,
 "nbformat_minor": 5
}
