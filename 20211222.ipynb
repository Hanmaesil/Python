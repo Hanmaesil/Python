{
 "cells": [
  {
   "cell_type": "markdown",
   "id": "407c0dee",
   "metadata": {},
   "source": [
    "# 삼항연산자\n",
    "- #a if 조건식 else b = 조건식이 true 이면 a가 실행 false면 b가 실행\n"
   ]
  },
  {
   "cell_type": "code",
   "execution_count": 2,
   "id": "9a2f5509",
   "metadata": {},
   "outputs": [
    {
     "data": {
      "text/plain": [
       "'불합격'"
      ]
     },
     "execution_count": 2,
     "metadata": {},
     "output_type": "execute_result"
    }
   ],
   "source": [
    "score = 50\n",
    "\"합격\" if score >= 60 else \"불합격\""
   ]
  },
  {
   "cell_type": "code",
   "execution_count": 7,
   "id": "116696e9",
   "metadata": {},
   "outputs": [
    {
     "name": "stdout",
     "output_type": "stream",
     "text": [
      "정수입력 >> 3\n",
      "정수입력 >> 10\n",
      "b : 10\n"
     ]
    }
   ],
   "source": [
    "a = int(input(\"정수입력 >> \"))\n",
    "b = int(input(\"정수입력 >> \"))\n",
    "\n",
    "print(\"a : %d\"%a) if a > b else print(\"b : %d\"%b )\n"
   ]
  },
  {
   "cell_type": "code",
   "execution_count": 9,
   "id": "20dbcb1b",
   "metadata": {},
   "outputs": [
    {
     "name": "stdout",
     "output_type": "stream",
     "text": [
      "첫 번째 정수 입력 >> 33\n",
      "두 번째 정수 입력 >> 5\n",
      "두수의 차 : 28\n"
     ]
    }
   ],
   "source": [
    "num1 = int(input(\"첫 번째 정수 입력 >> \"))\n",
    "num2 = int(input(\"두 번째 정수 입력 >> \"))\n",
    "\n",
    "print(f'두수의 차 : {num1 -num2}') if num1 > num2 else print(f'두수의 차 : {num2 -num1}') "
   ]
  },
  {
   "cell_type": "code",
   "execution_count": 11,
   "id": "0ea446a1",
   "metadata": {},
   "outputs": [
    {
     "name": "stdout",
     "output_type": "stream",
     "text": [
      "정수입력 >> 33\n",
      "33 은 홀수입니다.\n"
     ]
    }
   ],
   "source": [
    "num = int(input(\"정수입력 >> \"))\n",
    "print(f'{num} 은 짝수 입니다') if num%2 == 0 else print(f'{num} 은 홀수입니다.')"
   ]
  },
  {
   "cell_type": "markdown",
   "id": "e627734f",
   "metadata": {},
   "source": [
    "# 조건문\n",
    "\n",
    "- if, elif, else\n",
    "- ture와 false 전부 앞에는 대문자여야 한다."
   ]
  },
  {
   "cell_type": "markdown",
   "id": "fad5477b",
   "metadata": {},
   "source": [
    "### if 조건문"
   ]
  },
  {
   "cell_type": "markdown",
   "id": "007d7094",
   "metadata": {},
   "source": [
    "if 조건식 :\n",
    "    true일때 실행 문장 실행"
   ]
  },
  {
   "cell_type": "code",
   "execution_count": 14,
   "id": "1fe65cdc",
   "metadata": {},
   "outputs": [
    {
     "name": "stdout",
     "output_type": "stream",
     "text": [
      "if문 밖에 있는 문장 실행\n"
     ]
    }
   ],
   "source": [
    "if False :\n",
    "    print(\"실행문장 실행\")\n",
    "print(\"if문 밖에 있는 문장 실행\")"
   ]
  },
  {
   "cell_type": "code",
   "execution_count": 16,
   "id": "a1d1f092",
   "metadata": {},
   "outputs": [
    {
     "name": "stdout",
     "output_type": "stream",
     "text": [
      "money >> 10000\n",
      "택시를 탄다\n"
     ]
    }
   ],
   "source": [
    "money = int(input(\"money >> \"))\n",
    "if money >= 10000 :\n",
    "    print(\"택시를 탄다\")"
   ]
  },
  {
   "cell_type": "markdown",
   "id": "2b3e91c0",
   "metadata": {},
   "source": [
    "### if else 조건문\n",
    "- 자바랑 똑같다."
   ]
  },
  {
   "cell_type": "code",
   "execution_count": 18,
   "id": "889bb807",
   "metadata": {
    "scrolled": true
   },
   "outputs": [
    {
     "name": "stdout",
     "output_type": "stream",
     "text": [
      "money >> 2000\n",
      "버스를 탄다\n"
     ]
    }
   ],
   "source": [
    "money = int(input(\"money >> \"))\n",
    "if money >= 10000 :\n",
    "    print(\"택시를 탄다\")\n",
    "else :\n",
    "    print(\"버스를 탄다\")"
   ]
  },
  {
   "cell_type": "code",
   "execution_count": 22,
   "id": "1e044cac",
   "metadata": {},
   "outputs": [
    {
     "name": "stdout",
     "output_type": "stream",
     "text": [
      "정수 입력 >> 7\n",
      "3과 5의 배수가 아닙니다.\n"
     ]
    }
   ],
   "source": [
    "num = int(input(\"정수 입력 >> \"))\n",
    "if num % 3 == 0 and num % 5 ==0 :\n",
    "    print(\"3과 5의 배수입니다.\")\n",
    "else : \n",
    "    print(\"3과 5의 배수가 아닙니다.\")"
   ]
  },
  {
   "cell_type": "markdown",
   "id": "faf82807",
   "metadata": {},
   "source": [
    "### elif 조건문\n",
    "- 파이썬에서의 else if문!"
   ]
  },
  {
   "cell_type": "code",
   "execution_count": 25,
   "id": "b7c9bce5",
   "metadata": {},
   "outputs": [
    {
     "name": "stdout",
     "output_type": "stream",
     "text": [
      "첫 번째 정수 입력 >> 2\n",
      "두 번째 정수 입력 >> 2\n",
      "두 수가 똑같습니다.\n"
     ]
    }
   ],
   "source": [
    "num1 = int(input(\"첫 번째 정수 입력 >> \"))\n",
    "num2 = int(input(\"두 번째 정수 입력 >> \"))\n",
    "\n",
    "if num1 > num2 :\n",
    "    print(\"첫 번째 정수가 더 큽니다.\")\n",
    "elif num2 > num1 :\n",
    "    print(\"두 번째 정수가 더 큽니다.\")\n",
    "elif num1 == num2 :\n",
    "    print(\"두 수가 똑같습니다.\")"
   ]
  },
  {
   "cell_type": "code",
   "execution_count": 27,
   "id": "13319e74",
   "metadata": {},
   "outputs": [],
   "source": [
    "# num1 = int(input(\"첫 번째 정수 입력 >> \"))\n",
    "# num2 = int(input(\"두 번째 정수 입력 >> \"))\n",
    "# if num1 > num2 :\n",
    "#     print(\"첫 번째 정수가 더 큽니다.\")\n",
    "# else if num2 > num1 :\n",
    "#     print(\"두 번째 정수가 더 큽니다.\")\n",
    "# else :\n",
    "#     print(\"두 수가 똑같습니다.\")\n",
    "#자바에서 하는 것 처럼은 안된다!"
   ]
  },
  {
   "cell_type": "code",
   "execution_count": 33,
   "id": "a353f57b",
   "metadata": {},
   "outputs": [
    {
     "name": "stdout",
     "output_type": "stream",
     "text": [
      "점수 입력 >> 80\n",
      "80점은 B학점 입니다.\n"
     ]
    }
   ],
   "source": [
    "score = int(input(\"점수 입력 >> \"))\n",
    "\n",
    "if score >= 90 and score <= 100 :\n",
    "    grade = \"A\"\n",
    "#     print(f\"{score}점은 A학점입니다.\")\n",
    "elif score >= 80 and score < 90 :\n",
    "    grade = \"B\"\n",
    "#     print(f\"{score}점은 B학점입니다.\")\n",
    "elif score >= 70 and score < 80 :\n",
    "    grade = \"C\"\n",
    "#     print(f\"{score}점은 C학점입니다.\")\n",
    "elif score >= 60 and score < 70 :\n",
    "    grade = \"D\"\n",
    "#     print(f\"{score}점은 D학점입니다.\")\n",
    "elif score < 60 :\n",
    "    grade = \"F\"\n",
    "#     print(f\"{score}점은 F학점입니다.\")\n",
    "print(\"{}점은 {}학점 입니다.\".format(score,grade))"
   ]
  },
  {
   "cell_type": "code",
   "execution_count": 41,
   "id": "16d1aaab",
   "metadata": {},
   "outputs": [
    {
     "name": "stdout",
     "output_type": "stream",
     "text": [
      "\n",
      "\n",
      "================================================\n",
      "\n",
      "================---- 자판기 ----================\n",
      "\n",
      "================================================\n",
      "\n",
      "== 1.콜라 == 2.사이다 ==  3.물  =======insert===\n",
      "\n",
      "==--------==----------==--------=======------===\n",
      "\n",
      "==   600  ==    800   ==  1000  ======= O00원===\n",
      "\n",
      "=======================================------===\n",
      "\n",
      "================================================\n",
      "\n",
      "==++++++++++++++++++++++++++++++++++++++++++++==\n",
      "\n",
      "==++++++++++++++++++++++++++++++++++++++++++++==\n",
      "\n",
      "==++++++++++++++++++++++++++++++++++++++++++++==\n",
      "\n",
      "==+++++++++++++++              +++++++++++++++==\n",
      "\n",
      "==+++++++++++++++     SMHRD    +++++++++++++++==\n",
      "\n",
      "==+++++++++++++++              +++++++++++++++==\n",
      "\n",
      "==++++++++++++++++++++++++++++++++++++++++++++==\n",
      "\n",
      "==++++++++++++++++++++++++++++++++++++++++++++==\n",
      "\n",
      "================================================\n",
      "\n",
      "================================================\n",
      "\n",
      "  ===                                      ===\n",
      "\n",
      "  ===                                      ===\n",
      "\n",
      "\n",
      "Insert Coin >> 3500\n",
      "메뉴 선택 >> 2\n",
      "잔돈 >> 1000원 2개, 500원 1개, 100원 2개\n"
     ]
    }
   ],
   "source": [
    "print('''\n",
    "\n",
    "================================================\n",
    "\n",
    "================---- 자판기 ----================\n",
    "\n",
    "================================================\n",
    "\n",
    "== 1.콜라 == 2.사이다 ==  3.물  =======insert===\n",
    "\n",
    "==--------==----------==--------=======------===\n",
    "\n",
    "==   600  ==    800   ==  1000  ======= O00원===\n",
    "\n",
    "=======================================------===\n",
    "\n",
    "================================================\n",
    "\n",
    "==++++++++++++++++++++++++++++++++++++++++++++==\n",
    "\n",
    "==++++++++++++++++++++++++++++++++++++++++++++==\n",
    "\n",
    "==++++++++++++++++++++++++++++++++++++++++++++==\n",
    "\n",
    "==+++++++++++++++              +++++++++++++++==\n",
    "\n",
    "==+++++++++++++++     SMHRD    +++++++++++++++==\n",
    "\n",
    "==+++++++++++++++              +++++++++++++++==\n",
    "\n",
    "==++++++++++++++++++++++++++++++++++++++++++++==\n",
    "\n",
    "==++++++++++++++++++++++++++++++++++++++++++++==\n",
    "\n",
    "================================================\n",
    "\n",
    "================================================\n",
    "\n",
    "  ===                                      ===\n",
    "\n",
    "  ===                                      ===\n",
    "\n",
    "''')\n",
    "\n",
    "coin = int(input(\"Insert Coin >> \"))\n",
    "menu = int(input(\"메뉴 선택 >> \"))\n",
    "\n",
    "\n",
    "if menu == 1 :\n",
    "    payback = coin - 600\n",
    "elif menu == 2 :\n",
    "    payback = coin - 800\n",
    "elif menu == 3 :\n",
    "    payback = coin - 1000\n",
    "\n",
    "if payback < 0 :\n",
    "    print(\"잔액이 부족합니다.\")\n",
    "else :\n",
    "    천원 = payback // 1000\n",
    "    오백원 = (payback % 1000) // 500\n",
    "    백원 = ((payback % 1000) % 500) // 100\n",
    "    \n",
    "print(f\"잔돈 >> 1000원 {천원}개, 500원 {오백원}개, 100원 {백원}개\")\n"
   ]
  },
  {
   "cell_type": "markdown",
   "id": "b503a550",
   "metadata": {},
   "source": [
    "# 리스트(list)\n",
    "- 파이썬의 자료구조 형태중 하나\n",
    "- 순서가 있는 수정가능한 객체의 집합\n",
    "- 대괄호로 작성되어지며, 리스트 내부의 값은 콤마로 구분된다.\n",
    "- 추가, 수정, 삭제 가능\n",
    "- 자배 배열과 비슷하다.\n",
    "- 리스트 안에 리스트 가능, 안에 숫자랑 문자 섞어서 넣을 수 있다."
   ]
  },
  {
   "cell_type": "code",
   "execution_count": 46,
   "id": "7c0ce259",
   "metadata": {
    "scrolled": true
   },
   "outputs": [
    {
     "name": "stdout",
     "output_type": "stream",
     "text": [
      "[]\n",
      "[1, 2, 3]\n",
      "['my', 'name']\n",
      "[1, 2, 'my', 'name']\n",
      "[1, 2, ['my', 'name']]\n"
     ]
    },
    {
     "data": {
      "text/plain": [
       "list"
      ]
     },
     "execution_count": 46,
     "metadata": {},
     "output_type": "execute_result"
    }
   ],
   "source": [
    "a = []\n",
    "b = [1,2,3]\n",
    "c = [\"my\", \"name\"]\n",
    "d = [1, 2, \"my\", \"name\"]\n",
    "e = [1, 2, [\"my\", \"name\"]]\n",
    "print(a)\n",
    "print(b)\n",
    "print(c)\n",
    "print(d)\n",
    "print(e)\n",
    "type(a)"
   ]
  },
  {
   "cell_type": "code",
   "execution_count": 52,
   "id": "51d41a37",
   "metadata": {},
   "outputs": [
    {
     "name": "stdout",
     "output_type": "stream",
     "text": [
      "1\n",
      "7\n",
      "14\n"
     ]
    }
   ],
   "source": [
    "#인덱싱 활용\n",
    "list1 = [1,3,5,7,9]\n",
    "print(list1[0])\n",
    "print(list1[3])\n",
    "print(list1[2] + list1[-1])"
   ]
  },
  {
   "cell_type": "code",
   "execution_count": 53,
   "id": "342a5e49",
   "metadata": {},
   "outputs": [
    {
     "data": {
      "text/plain": [
       "[1, 2, 3, ['a', 'b', 'c']]"
      ]
     },
     "execution_count": 53,
     "metadata": {},
     "output_type": "execute_result"
    }
   ],
   "source": [
    "list2 = [1,2,3, [\"a\", \"b\", \"c\"]]\n",
    "list2"
   ]
  },
  {
   "cell_type": "code",
   "execution_count": 56,
   "id": "8ff46cd5",
   "metadata": {},
   "outputs": [
    {
     "name": "stdout",
     "output_type": "stream",
     "text": [
      "b\n",
      "b\n"
     ]
    }
   ],
   "source": [
    "temp = list2[3]\n",
    "print(temp[1])\n",
    "print(list2[3][1])"
   ]
  },
  {
   "cell_type": "code",
   "execution_count": 58,
   "id": "ce3ad5ac",
   "metadata": {},
   "outputs": [
    {
     "name": "stdout",
     "output_type": "stream",
     "text": [
      "[1, 2]\n",
      "[0, 1]\n",
      "[3, 4]\n"
     ]
    }
   ],
   "source": [
    "#슬라이싱\n",
    "list3 = [0, 1, 2, 3, 4]\n",
    "print(list3[1:3])\n",
    "print(list3[:2])\n",
    "print(list3[3:])"
   ]
  },
  {
   "cell_type": "code",
   "execution_count": 59,
   "id": "213c6427",
   "metadata": {},
   "outputs": [
    {
     "data": {
      "text/plain": [
       "[1, 2, 3, 3, 4, 5, 6]"
      ]
     },
     "execution_count": 59,
     "metadata": {},
     "output_type": "execute_result"
    }
   ],
   "source": [
    "list4 = [1, 2, 3]\n",
    "list5 = [3, 4, 5, 6]\n",
    "list4 + list5"
   ]
  },
  {
   "cell_type": "markdown",
   "id": "669f2f3b",
   "metadata": {},
   "source": [
    "### 리스트.append(넣고싶은 값) 을 통해 추가가능  ->>> 맨 뒤에 값이 추가된다."
   ]
  },
  {
   "cell_type": "code",
   "execution_count": 61,
   "id": "e7ae55b5",
   "metadata": {},
   "outputs": [
    {
     "data": {
      "text/plain": [
       "[0, 1, 2, 3, 4, 5]"
      ]
     },
     "execution_count": 61,
     "metadata": {},
     "output_type": "execute_result"
    }
   ],
   "source": [
    "#리스트.append(넣고싶은 값) 을 통해 추가가능  ->>> 맨 뒤에 값이 추가된다.\n",
    "list6 = [0,1,2,3,4]\n",
    "list6.append(5)\n",
    "list6"
   ]
  },
  {
   "cell_type": "code",
   "execution_count": 64,
   "id": "182fdf49",
   "metadata": {},
   "outputs": [
    {
     "name": "stdout",
     "output_type": "stream",
     "text": [
      "['사과', '오렌지', '수박']\n"
     ]
    }
   ],
   "source": [
    "list7 = [\"사과\", \"포도\", [\"수박\", \"멜론\" ], \"복숭아\", \"딸기\", \"오렌지\" ]\n",
    "apple = list7[0]\n",
    "watermelon = list7[2][0]\n",
    "orange = list7[-1]\n",
    "choice_list = []\n",
    "choice_list.append(apple)\n",
    "choice_list.append(orange)\n",
    "choice_list.append(watermelon)\n",
    "print(choice_list)"
   ]
  },
  {
   "cell_type": "code",
   "execution_count": 69,
   "id": "8776ff7e",
   "metadata": {},
   "outputs": [
    {
     "name": "stdout",
     "output_type": "stream",
     "text": [
      "[0, 5, 1, 2, 3, 6, 4]\n"
     ]
    }
   ],
   "source": [
    "#list 의 insert(인덱스 위치, 값) 함수 사용\n",
    "#인덱스 위치에 값 추가가 가능한 함수!\n",
    "list5 = [0, 1, 2, 3, 4]\n",
    "list5.insert(1,5) # 넣고 싶은 자리에 지정!\n",
    "list5.insert(5,6)\n",
    "print(list5)"
   ]
  },
  {
   "cell_type": "code",
   "execution_count": 4,
   "id": "0116e064",
   "metadata": {},
   "outputs": [
    {
     "name": "stdout",
     "output_type": "stream",
     "text": [
      "인덱스 위치 입력 >> 0\n",
      "노래제목 입력 >> butter\n",
      "가수입력 >> 방탄소년단\n",
      "music list :  [['butter', '방탄소년단']]\n"
     ]
    }
   ],
   "source": [
    "index = int(input(\"인덱스 위치 입력 >> \"))\n",
    "song = input(\"노래제목 입력 >> \")\n",
    "singer = input(\"가수입력 >> \")\n",
    "music_list = []\n",
    "\n",
    "music_list.insert(index, [song, singer])\n",
    "\n",
    "print(\"music list : \",music_list)\n",
    "\n",
    "\n"
   ]
  },
  {
   "cell_type": "code",
   "execution_count": 5,
   "id": "55e4ad82",
   "metadata": {},
   "outputs": [
    {
     "name": "stdout",
     "output_type": "stream",
     "text": [
      "인덱스 위치 입력 >> 2\n",
      "노래제목 입력 >> 헤픈우연\n",
      "가수입력 >> 헤이즈\n",
      "music list :  [['butter', '방탄소년단'], ['헤픈우연', '헤이즈']]\n"
     ]
    }
   ],
   "source": [
    "index = int(input(\"인덱스 위치 입력 >> \"))\n",
    "song = input(\"노래제목 입력 >> \")\n",
    "singer = input(\"가수입력 >> \")\n",
    "\n",
    "music_list.insert(index, [song, singer])\n",
    "\n",
    "print(\"music list : \",music_list)"
   ]
  },
  {
   "cell_type": "markdown",
   "id": "22b1b8ed",
   "metadata": {},
   "source": [
    "# 리스트 값 수정"
   ]
  },
  {
   "cell_type": "code",
   "execution_count": 6,
   "id": "a5dda9a0",
   "metadata": {},
   "outputs": [
    {
     "data": {
      "text/plain": [
       "[0, 1, 2, 3, 4, 5]"
      ]
     },
     "execution_count": 6,
     "metadata": {},
     "output_type": "execute_result"
    }
   ],
   "source": [
    "list6 = [0, 1, 2, 3, 4, 5]\n",
    "list6"
   ]
  },
  {
   "cell_type": "code",
   "execution_count": 12,
   "id": "db6cce2b",
   "metadata": {},
   "outputs": [
    {
     "name": "stdout",
     "output_type": "stream",
     "text": [
      "수정 전 :  7\n",
      "수정 전 : 7\n",
      "수정 후 :  7\n"
     ]
    }
   ],
   "source": [
    "print('수정 전 : ', list6[1])\n",
    "print(f'수정 전 : {list6[1]}')\n",
    "list6[1] = 7\n",
    "print(\"수정 후 : \", list6[1])"
   ]
  },
  {
   "cell_type": "code",
   "execution_count": 17,
   "id": "0c83e995",
   "metadata": {},
   "outputs": [
    {
     "name": "stdout",
     "output_type": "stream",
     "text": [
      "[0, 7, 2, 7]\n"
     ]
    }
   ],
   "source": [
    "list6[3:5] = [7]\n",
    "print(list6)"
   ]
  },
  {
   "cell_type": "code",
   "execution_count": 29,
   "id": "4e3c091d",
   "metadata": {},
   "outputs": [
    {
     "name": "stdout",
     "output_type": "stream",
     "text": [
      "[1, 2, 3, 4, 7]\n",
      "[1, ['a', 'b', 'c'], 3, 4, 7]\n",
      "[1, ['a', 'b', 'c'], 3, 'd', 'e', 'f', 'g']\n",
      "['h', 'i', 'j', ['a', 'b', 'c'], 3, 'd', 'e', 'f', 'g']\n"
     ]
    }
   ],
   "source": [
    "array = [1, 2, 3, 4, 5]\n",
    "array[-1] = 7\n",
    "print(array)\n",
    "array[1] = [\"a\", \"b\", \"c\"]\n",
    "print(array)\n",
    "array[3 : ] = [\"d\", \"e\", \"f\", \"g\"]\n",
    "# array[4] = [\"d\", \"e\", \"f\", \"g\"]\n",
    "print(array)\n",
    "array[:1] = [\"h\", \"i\", \"j\"]\n",
    "print(array)"
   ]
  },
  {
   "cell_type": "markdown",
   "id": "970bb845",
   "metadata": {},
   "source": [
    "# 리스트 값 삭제\n",
    "- del 키워드\n",
    "- remove() 함수"
   ]
  },
  {
   "cell_type": "code",
   "execution_count": 30,
   "id": "89e6b95d",
   "metadata": {},
   "outputs": [
    {
     "data": {
      "text/plain": [
       "[0, 2, 3, 4, 5]"
      ]
     },
     "execution_count": 30,
     "metadata": {},
     "output_type": "execute_result"
    }
   ],
   "source": [
    "list7 = [0, 1, 2, 3, 4, 5]\n",
    "#del 키워드\n",
    "del list7[1]\n",
    "list7"
   ]
  },
  {
   "cell_type": "code",
   "execution_count": 31,
   "id": "ee8d6ca7",
   "metadata": {},
   "outputs": [
    {
     "data": {
      "text/plain": [
       "[0, 5]"
      ]
     },
     "execution_count": 31,
     "metadata": {},
     "output_type": "execute_result"
    }
   ],
   "source": [
    "del list7[1:4]\n",
    "list7"
   ]
  },
  {
   "cell_type": "code",
   "execution_count": 38,
   "id": "50ae94be",
   "metadata": {},
   "outputs": [
    {
     "data": {
      "text/plain": [
       "['a', 'c', 'd', 'e']"
      ]
     },
     "execution_count": 38,
     "metadata": {},
     "output_type": "execute_result"
    }
   ],
   "source": [
    "#remove(값) 함수를 이용해서 값 삭제\n",
    "list7 = [\"a\", \"b\", \"c\", \"d\", \"e\", \"b\"]\n",
    "list7.remove(\"b\") # 한번에 하나씩만 지워져서\n",
    "list7\n",
    "list7.remove(\"b\") # 한번더 적어야 한다.\n",
    "list7"
   ]
  },
  {
   "cell_type": "markdown",
   "id": "3436dd76",
   "metadata": {},
   "source": [
    "# sort() -> 오름차순 정렬 함수!"
   ]
  },
  {
   "cell_type": "code",
   "execution_count": 39,
   "id": "311a0dfd",
   "metadata": {},
   "outputs": [
    {
     "data": {
      "text/plain": [
       "[9, 4, 2, 31, 22, 17]"
      ]
     },
     "execution_count": 39,
     "metadata": {},
     "output_type": "execute_result"
    }
   ],
   "source": [
    "#sort() ->> 리스트에 있는 값을 오름차순으로 정렬 해주는 함수!\n",
    "list8 = [9, 4, 2, 31, 22, 17]\n",
    "list8"
   ]
  },
  {
   "cell_type": "code",
   "execution_count": 40,
   "id": "fd055f20",
   "metadata": {},
   "outputs": [
    {
     "data": {
      "text/plain": [
       "[2, 4, 9, 17, 22, 31]"
      ]
     },
     "execution_count": 40,
     "metadata": {},
     "output_type": "execute_result"
    }
   ],
   "source": [
    "list8.sort()\n",
    "list8"
   ]
  },
  {
   "cell_type": "markdown",
   "id": "35d01937",
   "metadata": {},
   "source": [
    "# reverse ->> 리스트에 있는 값을 역순으로 뒤집는다!"
   ]
  },
  {
   "cell_type": "code",
   "execution_count": 44,
   "id": "65aef944",
   "metadata": {},
   "outputs": [
    {
     "data": {
      "text/plain": [
       "[9, 4, 2, 31, 22, 17]"
      ]
     },
     "execution_count": 44,
     "metadata": {},
     "output_type": "execute_result"
    }
   ],
   "source": [
    "#reverse() ->> 리스트에 있는 값을 역순으로 뒤집음\n",
    "list9 = [9, 4, 2, 31, 22, 17]\n",
    "list9"
   ]
  },
  {
   "cell_type": "code",
   "execution_count": 42,
   "id": "144f0c25",
   "metadata": {},
   "outputs": [
    {
     "data": {
      "text/plain": [
       "[17, 22, 31, 2, 4, 9]"
      ]
     },
     "execution_count": 42,
     "metadata": {},
     "output_type": "execute_result"
    }
   ],
   "source": [
    "list9.reverse()\n",
    "list9"
   ]
  },
  {
   "cell_type": "code",
   "execution_count": 48,
   "id": "22a10b9e",
   "metadata": {},
   "outputs": [
    {
     "data": {
      "text/plain": [
       "[31, 22, 17, 9, 4, 2]"
      ]
     },
     "execution_count": 48,
     "metadata": {},
     "output_type": "execute_result"
    }
   ],
   "source": [
    "#내림차순\n",
    "list9.sort()\n",
    "list9\n",
    "list9.reverse()\n",
    "list9"
   ]
  },
  {
   "cell_type": "code",
   "execution_count": 53,
   "id": "db0df6e9",
   "metadata": {},
   "outputs": [
    {
     "data": {
      "text/plain": [
       "[2, 4, 9, 17, 22, 31]"
      ]
     },
     "execution_count": 53,
     "metadata": {},
     "output_type": "execute_result"
    }
   ],
   "source": [
    "list9\n",
    "list9.sort(reverse = False) #원래 true값이 역순이기 때문에 false값으로 넣으면 정방향으로 사용가능!\n",
    "list9\n",
    "# list9.sort(reverse = True) # true넣으면 내림차순\n",
    "list9"
   ]
  },
  {
   "cell_type": "markdown",
   "id": "e202f963",
   "metadata": {},
   "source": [
    "# index() - 찾고자 하는 값의 위치를 반환"
   ]
  },
  {
   "cell_type": "code",
   "execution_count": 56,
   "id": "05bb2526",
   "metadata": {},
   "outputs": [
    {
     "data": {
      "text/plain": [
       "2"
      ]
     },
     "execution_count": 56,
     "metadata": {},
     "output_type": "execute_result"
    }
   ],
   "source": [
    "#index() - 찾고자 하는 값의 위치를 알려준다\n",
    "list11= [\"a\", \"b\", \"c\", \"d\", \"e\", \"f\", \"c\", \"c\"]\n",
    "list11.index('c') #최초의 c만 찾는다!"
   ]
  },
  {
   "cell_type": "markdown",
   "id": "aded5ff1",
   "metadata": {},
   "source": [
    "# count() - 찾고자 하는 값이 몇번들어있는지 반환"
   ]
  },
  {
   "cell_type": "code",
   "execution_count": 57,
   "id": "5067f722",
   "metadata": {},
   "outputs": [
    {
     "data": {
      "text/plain": [
       "3"
      ]
     },
     "execution_count": 57,
     "metadata": {},
     "output_type": "execute_result"
    }
   ],
   "source": [
    "#count() - 찾고자 하는 값의 총 갯수를 알려준다.\n",
    "list11.count(\"c\")"
   ]
  },
  {
   "cell_type": "markdown",
   "id": "276360b5",
   "metadata": {},
   "source": [
    "# pop() - 마지막 값을 반환후 삭제"
   ]
  },
  {
   "cell_type": "code",
   "execution_count": 60,
   "id": "42b5288c",
   "metadata": {},
   "outputs": [
    {
     "data": {
      "text/plain": [
       "'c'"
      ]
     },
     "execution_count": 60,
     "metadata": {},
     "output_type": "execute_result"
    }
   ],
   "source": [
    "#pop() - 마지막 값을 반환 후 삭제한다!\n",
    "list11.pop()\n",
    "list11"
   ]
  },
  {
   "cell_type": "markdown",
   "id": "220940f3",
   "metadata": {},
   "source": [
    "# len(리스트) - 리스트 값 개수 반환"
   ]
  },
  {
   "cell_type": "code",
   "execution_count": 63,
   "id": "22ec8ef5",
   "metadata": {},
   "outputs": [
    {
     "data": {
      "text/plain": [
       "6"
      ]
     },
     "execution_count": 63,
     "metadata": {},
     "output_type": "execute_result"
    }
   ],
   "source": [
    "#lin(리스트) - 배열의 길이를 알려주는 것과 비슷하다.\n",
    "list12 = [0, 1, 2]\n",
    "len(list12)\n",
    "len(list11)"
   ]
  },
  {
   "cell_type": "code",
   "execution_count": null,
   "id": "56a8f750",
   "metadata": {},
   "outputs": [],
   "source": []
  },
  {
   "cell_type": "code",
   "execution_count": null,
   "id": "7092a6a2",
   "metadata": {},
   "outputs": [],
   "source": []
  },
  {
   "cell_type": "code",
   "execution_count": null,
   "id": "40b8e7f4",
   "metadata": {},
   "outputs": [],
   "source": []
  },
  {
   "cell_type": "code",
   "execution_count": null,
   "id": "14cc6f44",
   "metadata": {},
   "outputs": [],
   "source": []
  },
  {
   "cell_type": "code",
   "execution_count": null,
   "id": "a72037f8",
   "metadata": {},
   "outputs": [],
   "source": []
  },
  {
   "cell_type": "code",
   "execution_count": null,
   "id": "267fc871",
   "metadata": {},
   "outputs": [],
   "source": []
  },
  {
   "cell_type": "code",
   "execution_count": null,
   "id": "48dc48a2",
   "metadata": {},
   "outputs": [],
   "source": []
  },
  {
   "cell_type": "code",
   "execution_count": null,
   "id": "0b042664",
   "metadata": {},
   "outputs": [],
   "source": []
  },
  {
   "cell_type": "code",
   "execution_count": null,
   "id": "f839db59",
   "metadata": {},
   "outputs": [],
   "source": []
  },
  {
   "cell_type": "code",
   "execution_count": null,
   "id": "0ebc8286",
   "metadata": {},
   "outputs": [],
   "source": []
  },
  {
   "cell_type": "code",
   "execution_count": null,
   "id": "ff01d998",
   "metadata": {},
   "outputs": [],
   "source": []
  }
 ],
 "metadata": {
  "kernelspec": {
   "display_name": "Python 3 (ipykernel)",
   "language": "python",
   "name": "python3"
  },
  "language_info": {
   "codemirror_mode": {
    "name": "ipython",
    "version": 3
   },
   "file_extension": ".py",
   "mimetype": "text/x-python",
   "name": "python",
   "nbconvert_exporter": "python",
   "pygments_lexer": "ipython3",
   "version": "3.9.7"
  }
 },
 "nbformat": 4,
 "nbformat_minor": 5
}
